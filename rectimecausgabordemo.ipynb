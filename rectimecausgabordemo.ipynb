{
 "cells": [
  {
   "cell_type": "code",
   "execution_count": 1,
   "metadata": {},
   "outputs": [],
   "source": [
    "import numpy as np\n",
    "from pygabor.rectimecausgabor import RecursiveTimeCausGaborMethod\n",
    "from importlib import reload"
   ]
  },
  {
   "cell_type": "code",
   "execution_count": null,
   "metadata": {},
   "outputs": [],
   "source": [
    "reload(pygabor.rectimecausgabor)"
   ]
  },
  {
   "cell_type": "code",
   "execution_count": 2,
   "metadata": {},
   "outputs": [],
   "source": [
    "# Generate a temporal signal for testing purposes\n",
    "\n",
    "Nt = 100\n",
    "delta_t = 1\n",
    "\n",
    "time = delta_t * np.linspace(0, Nt-1, Nt)\n",
    "omega_1 = 1 * time\n",
    "omega_2 = 2 * time\n",
    "testsignal = np.zeros(Nt)\n",
    "\n",
    "testsignal = np.cos(omega_1) + np.cos(omega_2)\n",
    "\n",
    "print(testsignal)\n"
   ]
  },
  {
   "cell_type": "code",
   "execution_count": 3,
   "metadata": {},
   "outputs": [],
   "source": [
    "# Use this function when computing the time-frequency transform at a single temporal scale\n",
    "\n",
    "rectimecausgabor = RecursiveTimeCausGaborMethod([1, 2, 4])\n",
    "\n",
    "for n in range(Nt):\n",
    "    transform = rectimecausgabor.process(testsignal[n])\n",
    "    print(transform)\n"
   ]
  }
 ],
 "metadata": {
  "kernelspec": {
   "display_name": "Python 3 (ipykernel)",
   "language": "python",
   "name": "python3"
  }
 },
 "nbformat": 4,
 "nbformat_minor": 4
}
