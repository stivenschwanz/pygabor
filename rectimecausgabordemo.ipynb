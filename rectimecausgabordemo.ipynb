{
 "cells": [
  {
   "cell_type": "code",
   "execution_count": null,
   "metadata": {},
   "outputs": [],
   "source": [
    "import numpy as np\n",
    "from pygabor.rectimecausgabor import RecursiveTimeCausGaborMethod\n",
    "from importlib import reload"
   ]
  },
  {
   "cell_type": "code",
   "execution_count": null,
   "metadata": {},
   "outputs": [],
   "source": [
    "reload(pygabor.rectimecausgabor)"
   ]
  },
  {
   "cell_type": "code",
   "execution_count": null,
   "metadata": {},
   "outputs": [],
   "source": [
    "# Constants\n",
    "Nt = 100"
   ]
  },
  {
   "cell_type": "code",
   "execution_count": null,
   "metadata": {},
   "outputs": [],
   "source": [
    "# Generate a temporal signal for testing purposes\n",
    "from pygabor.discgabor import whitenoisesignal1D\n",
    "testsignal = whitenoisesignal1D(Nt)"
   ]
  },
  {
   "cell_type": "code",
   "execution_count": null,
   "metadata": {},
   "outputs": [],
   "source": [
    "# Use this function when computing the time-frequency transform at a single temporal scale\n",
    "\n",
    "#output = np.zeros((J, K, N))\n",
    "\n",
    "rectimecausgabor = RecursiveTimeCausGaborMethod([1, 2, 4]))\n",
    "\n",
    "for tn in range(Nt):\n",
    "    transform = rectimecausgabor.process(testsignal[n])\n",
    "    print(transform)"
   ]
  }
 ],
 "metadata": {
  "kernelspec": {
   "display_name": "Python 3 (ipykernel)",
   "language": "python",
   "name": "python3"
  },
  "language_info": {
   "codemirror_mode": {
    "name": "ipython",
    "version": 3
   },
   "file_extension": ".py",
   "mimetype": "text/x-python",
   "name": "python",
   "nbconvert_exporter": "python",
   "pygments_lexer": "ipython3",
   "version": "3.12.1"
  }
 },
 "nbformat": 4,
 "nbformat_minor": 4
}
